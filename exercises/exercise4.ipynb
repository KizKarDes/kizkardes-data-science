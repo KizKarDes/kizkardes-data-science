{
 "cells": [
  {
   "cell_type": "markdown",
   "id": "de7ba629",
   "metadata": {},
   "source": [
    "# Exercise:\n",
    "Get information from webpage with beautiful soup.\n",
    "\n",
    "- https://www.crummy.com/software/BeautifulSoup/bs4/doc/\n",
    "- https://www.geeksforgeeks.org/python-web-scraping-tutorial/?ref=lbp\n",
    "- Get the links with python job posts from this page: https://realpython.github.io/fake-jobs/\n",
    "- Visualize all job types and/or other available info in the page.\n",
    "- (Optinal) Get another info from website you've chosen, If you have more time for this study."
   ]
  },
  {
   "cell_type": "code",
   "execution_count": 1,
   "id": "2e01d68c",
   "metadata": {},
   "outputs": [],
   "source": [
    "import requests\n",
    "from bs4 import BeautifulSoup\n",
    "import pandas as pd"
   ]
  },
  {
   "cell_type": "code",
   "execution_count": 2,
   "id": "7996f494",
   "metadata": {},
   "outputs": [],
   "source": [
    "url = \"https://realpython.github.io/fake-jobs/\"\n",
    "page = requests.get(url)"
   ]
  },
  {
   "cell_type": "code",
   "execution_count": 3,
   "id": "62b30b6b",
   "metadata": {},
   "outputs": [],
   "source": [
    "soup = BeautifulSoup(page.content, \"html.parser\")\n",
    "# added .content to avoid problems with character encoding."
   ]
  }
 ],
 "metadata": {
  "kernelspec": {
   "display_name": "Python 3",
   "language": "python",
   "name": "python3"
  },
  "language_info": {
   "codemirror_mode": {
    "name": "ipython",
    "version": 3
   },
   "file_extension": ".py",
   "mimetype": "text/x-python",
   "name": "python",
   "nbconvert_exporter": "python",
   "pygments_lexer": "ipython3",
   "version": "3.10.13"
  }
 },
 "nbformat": 4,
 "nbformat_minor": 5
}
